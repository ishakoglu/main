{
  "nbformat": 4,
  "nbformat_minor": 0,
  "metadata": {
    "colab": {
      "name": "cem-ishakoglu-HW3.ipynb",
      "provenance": [],
      "collapsed_sections": []
    },
    "kernelspec": {
      "name": "python3",
      "display_name": "Python 3"
    }
  },
  "cells": [
    {
      "cell_type": "code",
      "metadata": {
        "colab": {
          "base_uri": "https://localhost:8080/"
        },
        "id": "L3LGXkk38jcQ",
        "outputId": "4749f694-0416-4747-995b-5ca61871d7a8"
      },
      "source": [
        "import pandas as pd\n",
        "\n",
        "!apt-get update\n",
        "!apt-get install openjdk-8-jdk-headless -qq > /dev/null\n",
        "import os\n",
        "os.environ[\"JAVA_HOME\"] = \"/usr/lib/jvm/java-8-openjdk-amd64\"\n",
        "!update-alternatives --set java /usr/lib/jvm/java-8-openjdk-amd64/jre/bin/java\n",
        "!java -version\n",
        "!pip install pyspark\n"
      ],
      "execution_count": null,
      "outputs": [
        {
          "output_type": "stream",
          "text": [
            "\r0% [Working]\r            \rGet:1 http://security.ubuntu.com/ubuntu bionic-security InRelease [88.7 kB]\n",
            "\r0% [Connecting to archive.ubuntu.com (91.189.88.142)] [1 InRelease 0 B/88.7 kB \r                                                                               \rGet:2 https://cloud.r-project.org/bin/linux/ubuntu bionic-cran40/ InRelease [3,626 B]\n",
            "\r0% [Connecting to archive.ubuntu.com (91.189.88.142)] [1 InRelease 14.2 kB/88.7\r0% [Connecting to archive.ubuntu.com (91.189.88.142)] [1 InRelease 14.2 kB/88.7\r                                                                               \rIgn:3 https://developer.download.nvidia.com/compute/cuda/repos/ubuntu1804/x86_64  InRelease\n",
            "Ign:4 https://developer.download.nvidia.com/compute/machine-learning/repos/ubuntu1804/x86_64  InRelease\n",
            "Get:5 http://ppa.launchpad.net/c2d4u.team/c2d4u4.0+/ubuntu bionic InRelease [15.9 kB]\n",
            "Hit:6 https://developer.download.nvidia.com/compute/cuda/repos/ubuntu1804/x86_64  Release\n",
            "Hit:7 https://developer.download.nvidia.com/compute/machine-learning/repos/ubuntu1804/x86_64  Release\n",
            "Hit:8 http://archive.ubuntu.com/ubuntu bionic InRelease\n",
            "Get:9 http://archive.ubuntu.com/ubuntu bionic-updates InRelease [88.7 kB]\n",
            "Hit:10 http://ppa.launchpad.net/cran/libgit2/ubuntu bionic InRelease\n",
            "Hit:11 http://ppa.launchpad.net/deadsnakes/ppa/ubuntu bionic InRelease\n",
            "Get:12 http://archive.ubuntu.com/ubuntu bionic-backports InRelease [74.6 kB]\n",
            "Get:13 http://security.ubuntu.com/ubuntu bionic-security/restricted amd64 Packages [344 kB]\n",
            "Get:14 http://security.ubuntu.com/ubuntu bionic-security/main amd64 Packages [2,031 kB]\n",
            "Get:15 http://ppa.launchpad.net/graphics-drivers/ppa/ubuntu bionic InRelease [21.3 kB]\n",
            "Get:17 http://security.ubuntu.com/ubuntu bionic-security/universe amd64 Packages [1,400 kB]\n",
            "Get:19 http://ppa.launchpad.net/c2d4u.team/c2d4u4.0+/ubuntu bionic/main Sources [1,748 kB]\n",
            "Get:20 http://archive.ubuntu.com/ubuntu bionic-updates/main amd64 Packages [2,460 kB]\n",
            "Get:21 http://ppa.launchpad.net/c2d4u.team/c2d4u4.0+/ubuntu bionic/main amd64 Packages [894 kB]\n",
            "Get:22 http://archive.ubuntu.com/ubuntu bionic-updates/universe amd64 Packages [2,168 kB]\n",
            "Get:23 http://archive.ubuntu.com/ubuntu bionic-updates/restricted amd64 Packages [373 kB]\n",
            "Get:24 http://ppa.launchpad.net/graphics-drivers/ppa/ubuntu bionic/main amd64 Packages [49.4 kB]\n",
            "Fetched 11.8 MB in 4s (3,026 kB/s)\n",
            "Reading package lists... Done\n",
            "update-alternatives: using /usr/lib/jvm/java-8-openjdk-amd64/jre/bin/java to provide /usr/bin/java (java) in manual mode\n",
            "openjdk version \"1.8.0_282\"\n",
            "OpenJDK Runtime Environment (build 1.8.0_282-8u282-b08-0ubuntu1~18.04-b08)\n",
            "OpenJDK 64-Bit Server VM (build 25.282-b08, mixed mode)\n",
            "Collecting pyspark\n",
            "\u001b[?25l  Downloading https://files.pythonhosted.org/packages/45/b0/9d6860891ab14a39d4bddf80ba26ce51c2f9dc4805e5c6978ac0472c120a/pyspark-3.1.1.tar.gz (212.3MB)\n",
            "\u001b[K     |████████████████████████████████| 212.3MB 65kB/s \n",
            "\u001b[?25hCollecting py4j==0.10.9\n",
            "\u001b[?25l  Downloading https://files.pythonhosted.org/packages/9e/b6/6a4fb90cd235dc8e265a6a2067f2a2c99f0d91787f06aca4bcf7c23f3f80/py4j-0.10.9-py2.py3-none-any.whl (198kB)\n",
            "\u001b[K     |████████████████████████████████| 204kB 19.9MB/s \n",
            "\u001b[?25hBuilding wheels for collected packages: pyspark\n",
            "  Building wheel for pyspark (setup.py) ... \u001b[?25l\u001b[?25hdone\n",
            "  Created wheel for pyspark: filename=pyspark-3.1.1-py2.py3-none-any.whl size=212767604 sha256=4d5d521afea1cb9b166cd6e2631a92c9018a4dceb99ff301a76987e5f109896e\n",
            "  Stored in directory: /root/.cache/pip/wheels/0b/90/c0/01de724414ef122bd05f056541fb6a0ecf47c7ca655f8b3c0f\n",
            "Successfully built pyspark\n",
            "Installing collected packages: py4j, pyspark\n",
            "Successfully installed py4j-0.10.9 pyspark-3.1.1\n"
          ],
          "name": "stdout"
        }
      ]
    },
    {
      "cell_type": "code",
      "metadata": {
        "id": "MM83fR4n84XJ"
      },
      "source": [
        "from pyspark import SparkContext\n",
        "from pyspark.sql import SparkSession \n",
        "from pyspark.ml.feature import StringIndexer,VectorAssembler\n",
        "\n",
        "spark = SparkSession.builder\\\n",
        "            .appName(\"Spark Dataframe Intro\")\\\n",
        "            .getOrCreate()"
      ],
      "execution_count": null,
      "outputs": []
    },
    {
      "cell_type": "code",
      "metadata": {
        "id": "YlwdlrEA862P"
      },
      "source": [
        "leaf = spark.read.option(\"header\",\"false\").option(\"inferSchema\",\"true\").csv('/content/leaf.csv')"
      ],
      "execution_count": null,
      "outputs": []
    },
    {
      "cell_type": "code",
      "metadata": {
        "id": "46_R4sdc9Z_p",
        "colab": {
          "base_uri": "https://localhost:8080/"
        },
        "outputId": "c2fe9b53-bf3d-4549-9a7c-0bd581ab1a2c"
      },
      "source": [
        "leaf.show()"
      ],
      "execution_count": null,
      "outputs": [
        {
          "output_type": "stream",
          "text": [
            "+---+---+-------+------+-------+-------+-------+-------+---------+---------+---------+--------+---------+---------+---------+-------+\n",
            "|_c0|_c1|    _c2|   _c3|    _c4|    _c5|    _c6|    _c7|      _c8|      _c9|     _c10|    _c11|     _c12|     _c13|     _c14|   _c15|\n",
            "+---+---+-------+------+-------+-------+-------+-------+---------+---------+---------+--------+---------+---------+---------+-------+\n",
            "|  1|  1|0.72694|1.4742|0.32396|0.98535|    1.0|0.83592|0.0046566|0.0039465|  0.04779| 0.12795| 0.016108|0.0052323|2.7477E-4| 1.1756|\n",
            "|  1|  2|0.74173|1.5257|0.36116|0.98152|0.99825|0.79867|0.0052423|0.0050016|  0.02416|0.090476|0.0081195| 0.002708|7.4846E-5|0.69659|\n",
            "|  1|  3|0.76722|1.5725|0.38998|0.97755|    1.0|0.80812|0.0074573| 0.010121| 0.011897|0.057445|0.0032891|9.2068E-4|3.7886E-5|0.44348|\n",
            "|  1|  4|0.73797|1.4597|0.35376|0.97566|    1.0|0.81697|0.0068768|0.0086068|  0.01595|0.065491|0.0042707|0.0011544|6.6272E-5|0.58785|\n",
            "|  1|  5|0.82301|1.7707|0.44462|0.97698|    1.0|0.75493| 0.007428| 0.010042|0.0079379|0.045339|0.0020514|5.5986E-4|2.3504E-5|0.34214|\n",
            "|  1|  6|0.72997|1.4892|0.34284|0.98755|    1.0|0.84482|0.0049451|0.0044506| 0.010487|0.058528|0.0034138|0.0011248|2.4798E-5|0.34068|\n",
            "|  1|  7|0.82063|1.7529|0.44458|0.97964|0.99649| 0.7677|0.0059279|0.0063954| 0.018375|0.080587|0.0064523|0.0022713|4.1495E-5|0.53904|\n",
            "|  1|  8|0.77982|1.6215|0.39222|0.98512|0.99825|0.80816|0.0050987|0.0047314| 0.024875|0.089686|0.0079794|0.0024664|1.4676E-4|0.66975|\n",
            "|  1|  9|0.83089|1.8199|0.45693| 0.9824|    1.0|0.77106|0.0060055| 0.006564|0.0072447|0.040616|0.0016469|3.8812E-4|3.2863E-5|0.33696|\n",
            "|  1| 10|0.90631|2.3906|0.58336|0.97683|0.99825|0.66419|0.0084019| 0.012848|0.0070096|0.042347|0.0017901|4.5889E-4|2.8251E-5|0.28082|\n",
            "|  1| 11| 0.7459|1.4927|0.34116|0.98296|    1.0|0.83088|0.0055665|0.0056395|0.0057679|0.036511|0.0013313|3.0872E-4|3.1839E-5|0.25026|\n",
            "|  1| 12|0.79606|1.6934|0.43387|0.98181|    1.0|0.76985|0.0077992| 0.011071| 0.013677|0.057832|0.0033334|8.1648E-4|1.3855E-4|0.49751|\n",
            "|  2|  1|0.93361|2.7582|0.64257|0.98346|    1.0|0.59851|0.0055336|0.0055731| 0.029712|0.089889|0.0080153|0.0020648|2.3883E-4|0.91499|\n",
            "|  2|  2|0.91186|2.4994|0.60323|  0.983|    1.0|0.64916|0.0061494|0.0068823| 0.018887|0.072486|0.0052267|0.0014887|8.3271E-5|0.67811|\n",
            "|  2|  3|0.89063|2.2927|0.56667|0.98732|    1.0|0.66427|0.0028365|0.0014643| 0.029272|0.091328|0.0082717|0.0022383|2.0166E-4|0.87177|\n",
            "|  2|  4|0.86755| 2.009|0.51464|0.98691|    1.0|0.70277|0.0054439|0.0053937| 0.030348|0.092063|0.0084044|0.0022541|1.9854E-4|0.94545|\n",
            "|  2|  5|0.91852|2.5247|0.61648| 0.9787|    1.0|0.63037|0.0050494|0.0046404|  0.02309|0.082029|0.0066839|0.0018929|1.2452E-4|0.71713|\n",
            "|  2|  6|0.88795|2.2038|0.56218|0.97835|0.99825|0.64158|0.0059242|0.0063874| 0.032722|0.092969|0.0085691|0.0021199|2.7729E-4|  1.008|\n",
            "|  2|  7|0.85121|1.9548| 0.4892|0.98622|    1.0|0.70267|0.0039733|0.0028733| 0.020258|0.070841|0.0049933|0.0012274|1.4929E-4|0.74174|\n",
            "|  2|  8|0.89084|2.2979|0.57815|0.97389|    1.0|0.64598| 0.015271| 0.042443| 0.028461|0.086477|0.0074228|0.0018832|2.4345E-4|0.91307|\n",
            "+---+---+-------+------+-------+-------+-------+-------+---------+---------+---------+--------+---------+---------+---------+-------+\n",
            "only showing top 20 rows\n",
            "\n"
          ],
          "name": "stdout"
        }
      ]
    },
    {
      "cell_type": "code",
      "metadata": {
        "id": "Yz566h626fLr",
        "colab": {
          "base_uri": "https://localhost:8080/"
        },
        "outputId": "c2a9aa15-0c3b-4c09-ea1c-864bc04032cf"
      },
      "source": [
        "leaf.select(\"_c0\").distinct().show(10000)\n",
        "\n",
        "# Too many target exists.. Precision might not be high"
      ],
      "execution_count": null,
      "outputs": [
        {
          "output_type": "stream",
          "text": [
            "+---+\n",
            "|_c0|\n",
            "+---+\n",
            "| 31|\n",
            "| 34|\n",
            "| 28|\n",
            "| 26|\n",
            "| 27|\n",
            "| 12|\n",
            "| 22|\n",
            "|  1|\n",
            "| 13|\n",
            "|  6|\n",
            "|  3|\n",
            "|  5|\n",
            "| 15|\n",
            "|  9|\n",
            "| 35|\n",
            "|  4|\n",
            "|  8|\n",
            "| 23|\n",
            "|  7|\n",
            "| 10|\n",
            "| 25|\n",
            "| 24|\n",
            "| 29|\n",
            "| 32|\n",
            "| 11|\n",
            "| 33|\n",
            "| 14|\n",
            "|  2|\n",
            "| 30|\n",
            "| 36|\n",
            "+---+\n",
            "\n"
          ],
          "name": "stdout"
        }
      ]
    },
    {
      "cell_type": "code",
      "metadata": {
        "id": "i7ZlUgM96p_S"
      },
      "source": [
        ""
      ],
      "execution_count": null,
      "outputs": []
    },
    {
      "cell_type": "code",
      "metadata": {
        "id": "3hJDp6Po9dAf"
      },
      "source": [
        "# As I understand from the datasets ReadMe paper, columns 11 to 16 are statistical informations which are calculated from other columns of datasets.\n",
        "# So if these are calculated with other columns value, we dont need to keep these values in datasets. That might increase our model complexiticy redundantly.\n",
        "  "
      ],
      "execution_count": null,
      "outputs": []
    },
    {
      "cell_type": "code",
      "metadata": {
        "id": "CbP9h8SSNcij"
      },
      "source": [
        "leaf_new = leaf.drop('_c11','_c12','_c13','_c14','_c15')"
      ],
      "execution_count": null,
      "outputs": []
    },
    {
      "cell_type": "code",
      "metadata": {
        "id": "8OQfwzOxOs1g",
        "colab": {
          "base_uri": "https://localhost:8080/"
        },
        "outputId": "848f0176-930d-4d82-d348-4e9a4e3f56b6"
      },
      "source": [
        "leaf_new.show()"
      ],
      "execution_count": null,
      "outputs": [
        {
          "output_type": "stream",
          "text": [
            "+---+---+-------+------+-------+-------+-------+-------+---------+---------+---------+\n",
            "|_c0|_c1|    _c2|   _c3|    _c4|    _c5|    _c6|    _c7|      _c8|      _c9|     _c10|\n",
            "+---+---+-------+------+-------+-------+-------+-------+---------+---------+---------+\n",
            "|  1|  1|0.72694|1.4742|0.32396|0.98535|    1.0|0.83592|0.0046566|0.0039465|  0.04779|\n",
            "|  1|  2|0.74173|1.5257|0.36116|0.98152|0.99825|0.79867|0.0052423|0.0050016|  0.02416|\n",
            "|  1|  3|0.76722|1.5725|0.38998|0.97755|    1.0|0.80812|0.0074573| 0.010121| 0.011897|\n",
            "|  1|  4|0.73797|1.4597|0.35376|0.97566|    1.0|0.81697|0.0068768|0.0086068|  0.01595|\n",
            "|  1|  5|0.82301|1.7707|0.44462|0.97698|    1.0|0.75493| 0.007428| 0.010042|0.0079379|\n",
            "|  1|  6|0.72997|1.4892|0.34284|0.98755|    1.0|0.84482|0.0049451|0.0044506| 0.010487|\n",
            "|  1|  7|0.82063|1.7529|0.44458|0.97964|0.99649| 0.7677|0.0059279|0.0063954| 0.018375|\n",
            "|  1|  8|0.77982|1.6215|0.39222|0.98512|0.99825|0.80816|0.0050987|0.0047314| 0.024875|\n",
            "|  1|  9|0.83089|1.8199|0.45693| 0.9824|    1.0|0.77106|0.0060055| 0.006564|0.0072447|\n",
            "|  1| 10|0.90631|2.3906|0.58336|0.97683|0.99825|0.66419|0.0084019| 0.012848|0.0070096|\n",
            "|  1| 11| 0.7459|1.4927|0.34116|0.98296|    1.0|0.83088|0.0055665|0.0056395|0.0057679|\n",
            "|  1| 12|0.79606|1.6934|0.43387|0.98181|    1.0|0.76985|0.0077992| 0.011071| 0.013677|\n",
            "|  2|  1|0.93361|2.7582|0.64257|0.98346|    1.0|0.59851|0.0055336|0.0055731| 0.029712|\n",
            "|  2|  2|0.91186|2.4994|0.60323|  0.983|    1.0|0.64916|0.0061494|0.0068823| 0.018887|\n",
            "|  2|  3|0.89063|2.2927|0.56667|0.98732|    1.0|0.66427|0.0028365|0.0014643| 0.029272|\n",
            "|  2|  4|0.86755| 2.009|0.51464|0.98691|    1.0|0.70277|0.0054439|0.0053937| 0.030348|\n",
            "|  2|  5|0.91852|2.5247|0.61648| 0.9787|    1.0|0.63037|0.0050494|0.0046404|  0.02309|\n",
            "|  2|  6|0.88795|2.2038|0.56218|0.97835|0.99825|0.64158|0.0059242|0.0063874| 0.032722|\n",
            "|  2|  7|0.85121|1.9548| 0.4892|0.98622|    1.0|0.70267|0.0039733|0.0028733| 0.020258|\n",
            "|  2|  8|0.89084|2.2979|0.57815|0.97389|    1.0|0.64598| 0.015271| 0.042443| 0.028461|\n",
            "+---+---+-------+------+-------+-------+-------+-------+---------+---------+---------+\n",
            "only showing top 20 rows\n",
            "\n"
          ],
          "name": "stdout"
        }
      ]
    },
    {
      "cell_type": "code",
      "metadata": {
        "id": "4qrKAKM0Z2bK",
        "colab": {
          "base_uri": "https://localhost:8080/"
        },
        "outputId": "38b819e4-a590-4738-b734-00aa118ab469"
      },
      "source": [
        "leaf_new.summary().show()  # I dont see any null values in data set. All columns count is 340.."
      ],
      "execution_count": null,
      "outputs": [
        {
          "output_type": "stream",
          "text": [
            "+-------+------------------+------------------+-------------------+-----------------+------------------+-------------------+-------------------+-------------------+--------------------+------------------+--------------------+\n",
            "|summary|               _c0|               _c1|                _c2|              _c3|               _c4|                _c5|                _c6|                _c7|                 _c8|               _c9|                _c10|\n",
            "+-------+------------------+------------------+-------------------+-----------------+------------------+-------------------+-------------------+-------------------+--------------------+------------------+--------------------+\n",
            "|  count|               340|               340|                340|              340|               340|                340|                340|                340|                 340|               340|                 340|\n",
            "|   mean|18.544117647058822|6.2823529411764705| 0.7198541764705882|          2.44021|0.5137604117647057| 0.9041577352941174| 0.9437929705882349| 0.5312335529411764|0.037344603235294115|0.5238449391176467|0.051346355588235325|\n",
            "| stddev|11.152514463795796|3.4627789570161087|0.20831105515953707|2.599042669706628|0.1955829569366353|0.11463914421737179|0.11504654762850589|0.21753156635197998| 0.03857491901164008|1.0396394142951784| 0.03596491370502356|\n",
            "|    min|                 1|                 1|            0.11708|           1.0066|           0.10761|            0.48549|            0.39649|           0.078376|           0.0028365|         0.0014643|           0.0050219|\n",
            "|    25%|                 9|                 3|            0.54913|           1.2107|           0.34921|            0.89009|            0.96491|            0.34354|           0.0092956|          0.015726|            0.022715|\n",
            "|    50%|                15|                 6|            0.75968|            1.569|           0.50157|            0.94783|            0.99298|            0.57906|            0.023841|           0.10345|            0.042051|\n",
            "|    75%|                29|                 9|            0.89507|           2.3423|            0.6333|            0.97688|                1.0|            0.70006|            0.047809|           0.41601|             0.07304|\n",
            "|    max|                36|                16|            0.99871|           19.038|           0.94834|            0.99388|                1.0|            0.85816|             0.19898|            7.2062|             0.19067|\n",
            "+-------+------------------+------------------+-------------------+-----------------+------------------+-------------------+-------------------+-------------------+--------------------+------------------+--------------------+\n",
            "\n"
          ],
          "name": "stdout"
        }
      ]
    },
    {
      "cell_type": "code",
      "metadata": {
        "id": "zRx4XvGkDlrz"
      },
      "source": [
        "from pyspark.sql.functions import UserDefinedFunction\n",
        "from pyspark.sql.types import StringType\n",
        "from pyspark.ml.feature import StringIndexer,VectorAssembler\n",
        "from pyspark.ml.classification import RandomForestClassifier\n",
        "from pyspark.ml.tuning import TrainValidationSplit,ParamGridBuilder\n",
        "from pyspark.ml.evaluation import MulticlassClassificationEvaluator\n",
        "from pyspark.ml import Pipeline\n",
        "from pyspark.ml.classification import LogisticRegression\n",
        "from pyspark.ml.evaluation import BinaryClassificationEvaluator\n",
        "from pyspark.ml.tuning import CrossValidator, ParamGridBuilder"
      ],
      "execution_count": null,
      "outputs": []
    },
    {
      "cell_type": "code",
      "metadata": {
        "id": "TYizhRt4w5Kb"
      },
      "source": [
        "#first i will try RandomForest:"
      ],
      "execution_count": null,
      "outputs": []
    },
    {
      "cell_type": "code",
      "metadata": {
        "id": "0XLi5Cm8xAgG"
      },
      "source": [
        "vec = VectorAssembler(inputCols=leaf_new.columns[2:],outputCol='features')\n",
        "leaf_new = vec.transform(leaf_new)\n"
      ],
      "execution_count": null,
      "outputs": []
    },
    {
      "cell_type": "code",
      "metadata": {
        "id": "UeDe2NmCxixW",
        "colab": {
          "base_uri": "https://localhost:8080/"
        },
        "outputId": "6f664504-18ba-4bf1-bdba-556c2ca89e99"
      },
      "source": [
        "leaf_new.show()"
      ],
      "execution_count": null,
      "outputs": [
        {
          "output_type": "stream",
          "text": [
            "+---+---+-------+------+-------+-------+-------+-------+---------+---------+---------+--------------------+\n",
            "|_c0|_c1|    _c2|   _c3|    _c4|    _c5|    _c6|    _c7|      _c8|      _c9|     _c10|            features|\n",
            "+---+---+-------+------+-------+-------+-------+-------+---------+---------+---------+--------------------+\n",
            "|  1|  1|0.72694|1.4742|0.32396|0.98535|    1.0|0.83592|0.0046566|0.0039465|  0.04779|[0.72694,1.4742,0...|\n",
            "|  1|  2|0.74173|1.5257|0.36116|0.98152|0.99825|0.79867|0.0052423|0.0050016|  0.02416|[0.74173,1.5257,0...|\n",
            "|  1|  3|0.76722|1.5725|0.38998|0.97755|    1.0|0.80812|0.0074573| 0.010121| 0.011897|[0.76722,1.5725,0...|\n",
            "|  1|  4|0.73797|1.4597|0.35376|0.97566|    1.0|0.81697|0.0068768|0.0086068|  0.01595|[0.73797,1.4597,0...|\n",
            "|  1|  5|0.82301|1.7707|0.44462|0.97698|    1.0|0.75493| 0.007428| 0.010042|0.0079379|[0.82301,1.7707,0...|\n",
            "|  1|  6|0.72997|1.4892|0.34284|0.98755|    1.0|0.84482|0.0049451|0.0044506| 0.010487|[0.72997,1.4892,0...|\n",
            "|  1|  7|0.82063|1.7529|0.44458|0.97964|0.99649| 0.7677|0.0059279|0.0063954| 0.018375|[0.82063,1.7529,0...|\n",
            "|  1|  8|0.77982|1.6215|0.39222|0.98512|0.99825|0.80816|0.0050987|0.0047314| 0.024875|[0.77982,1.6215,0...|\n",
            "|  1|  9|0.83089|1.8199|0.45693| 0.9824|    1.0|0.77106|0.0060055| 0.006564|0.0072447|[0.83089,1.8199,0...|\n",
            "|  1| 10|0.90631|2.3906|0.58336|0.97683|0.99825|0.66419|0.0084019| 0.012848|0.0070096|[0.90631,2.3906,0...|\n",
            "|  1| 11| 0.7459|1.4927|0.34116|0.98296|    1.0|0.83088|0.0055665|0.0056395|0.0057679|[0.7459,1.4927,0....|\n",
            "|  1| 12|0.79606|1.6934|0.43387|0.98181|    1.0|0.76985|0.0077992| 0.011071| 0.013677|[0.79606,1.6934,0...|\n",
            "|  2|  1|0.93361|2.7582|0.64257|0.98346|    1.0|0.59851|0.0055336|0.0055731| 0.029712|[0.93361,2.7582,0...|\n",
            "|  2|  2|0.91186|2.4994|0.60323|  0.983|    1.0|0.64916|0.0061494|0.0068823| 0.018887|[0.91186,2.4994,0...|\n",
            "|  2|  3|0.89063|2.2927|0.56667|0.98732|    1.0|0.66427|0.0028365|0.0014643| 0.029272|[0.89063,2.2927,0...|\n",
            "|  2|  4|0.86755| 2.009|0.51464|0.98691|    1.0|0.70277|0.0054439|0.0053937| 0.030348|[0.86755,2.009,0....|\n",
            "|  2|  5|0.91852|2.5247|0.61648| 0.9787|    1.0|0.63037|0.0050494|0.0046404|  0.02309|[0.91852,2.5247,0...|\n",
            "|  2|  6|0.88795|2.2038|0.56218|0.97835|0.99825|0.64158|0.0059242|0.0063874| 0.032722|[0.88795,2.2038,0...|\n",
            "|  2|  7|0.85121|1.9548| 0.4892|0.98622|    1.0|0.70267|0.0039733|0.0028733| 0.020258|[0.85121,1.9548,0...|\n",
            "|  2|  8|0.89084|2.2979|0.57815|0.97389|    1.0|0.64598| 0.015271| 0.042443| 0.028461|[0.89084,2.2979,0...|\n",
            "+---+---+-------+------+-------+-------+-------+-------+---------+---------+---------+--------------------+\n",
            "only showing top 20 rows\n",
            "\n"
          ],
          "name": "stdout"
        }
      ]
    },
    {
      "cell_type": "code",
      "metadata": {
        "id": "lJy_8-DnxkVx",
        "colab": {
          "base_uri": "https://localhost:8080/"
        },
        "outputId": "009db406-5e51-4e60-b190-b34cf966e0e2"
      },
      "source": [
        "leaf_vectorized = leaf_new.select('features','_c0')\n",
        "leaf_vectorized = leaf_vectorized.withColumnRenamed('_c0','label')\n",
        "leaf_vectorized.show()"
      ],
      "execution_count": null,
      "outputs": [
        {
          "output_type": "stream",
          "text": [
            "+--------------------+-----+\n",
            "|            features|label|\n",
            "+--------------------+-----+\n",
            "|[0.72694,1.4742,0...|    1|\n",
            "|[0.74173,1.5257,0...|    1|\n",
            "|[0.76722,1.5725,0...|    1|\n",
            "|[0.73797,1.4597,0...|    1|\n",
            "|[0.82301,1.7707,0...|    1|\n",
            "|[0.72997,1.4892,0...|    1|\n",
            "|[0.82063,1.7529,0...|    1|\n",
            "|[0.77982,1.6215,0...|    1|\n",
            "|[0.83089,1.8199,0...|    1|\n",
            "|[0.90631,2.3906,0...|    1|\n",
            "|[0.7459,1.4927,0....|    1|\n",
            "|[0.79606,1.6934,0...|    1|\n",
            "|[0.93361,2.7582,0...|    2|\n",
            "|[0.91186,2.4994,0...|    2|\n",
            "|[0.89063,2.2927,0...|    2|\n",
            "|[0.86755,2.009,0....|    2|\n",
            "|[0.91852,2.5247,0...|    2|\n",
            "|[0.88795,2.2038,0...|    2|\n",
            "|[0.85121,1.9548,0...|    2|\n",
            "|[0.89084,2.2979,0...|    2|\n",
            "+--------------------+-----+\n",
            "only showing top 20 rows\n",
            "\n"
          ],
          "name": "stdout"
        }
      ]
    },
    {
      "cell_type": "code",
      "metadata": {
        "id": "5356_fdKx6g-"
      },
      "source": [
        "trainDF , testDF = leaf_vectorized.randomSplit([0.7,0.3])"
      ],
      "execution_count": null,
      "outputs": []
    },
    {
      "cell_type": "code",
      "metadata": {
        "id": "IOh9yL-Byfrb",
        "colab": {
          "base_uri": "https://localhost:8080/"
        },
        "outputId": "f7062bcf-eea0-4390-9442-a2c47f3b9dc3"
      },
      "source": [
        "rfclassifier = RandomForestClassifier()\n",
        "params = ParamGridBuilder()\\\n",
        "      .addGrid(rfclassifier.maxDepth,[2,3,4,5,7,9,11])\\\n",
        "      .addGrid(rfclassifier.numTrees,[1,2,3,4,10,20,25,30,35])\\\n",
        "      .addGrid(rfclassifier.impurity,['gini','entropy'])\\\n",
        "      .build()\n",
        "eva = MulticlassClassificationEvaluator(metricName='accuracy')\n",
        "validator = CrossValidator(estimatorParamMaps=params,\n",
        "                                 estimator=rfclassifier,\n",
        "                                 evaluator=eva,                                 \n",
        "                                 parallelism=32         )\n",
        "\n",
        "model = validator.fit(trainDF)\n",
        "print(\"Num Trees : \",model.bestModel.getNumTrees)\n",
        "print(\"Max Depth : \",model.bestModel._java_obj.getMaxDepth())\n",
        "print(\"Impurtiy : \",model.bestModel._java_obj.getImpurity())\n",
        "\n",
        "sonucDF = model.transform(testDF)\n",
        "basari = eva.evaluate(sonucDF)\n",
        "print(\"Başarı : \",basari)"
      ],
      "execution_count": null,
      "outputs": [
        {
          "output_type": "stream",
          "text": [
            "Num Trees :  30\n",
            "Max Depth :  11\n",
            "Impurtiy :  gini\n",
            "Başarı :  0.6237623762376238\n"
          ],
          "name": "stdout"
        }
      ]
    },
    {
      "cell_type": "code",
      "metadata": {
        "id": "7-3FOM6B0KKN"
      },
      "source": [
        "# Hmm, 62 percent not that bad for many classes.."
      ],
      "execution_count": null,
      "outputs": []
    },
    {
      "cell_type": "markdown",
      "metadata": {
        "id": "dQyzQUtM3MsH"
      },
      "source": [
        "#I want to try a parametric model, \n",
        "#Logistic Regggg:"
      ]
    },
    {
      "cell_type": "code",
      "metadata": {
        "id": "Xl7nE25p1YxO"
      },
      "source": [
        "# Let us scale the columns first:"
      ],
      "execution_count": null,
      "outputs": []
    },
    {
      "cell_type": "code",
      "metadata": {
        "id": "BFXK5zOW3xNq"
      },
      "source": [
        "trainDF , testDF = leaf_vectorized.randomSplit([0.7,0.3])\n",
        "#First split, then scale.."
      ],
      "execution_count": null,
      "outputs": []
    },
    {
      "cell_type": "code",
      "metadata": {
        "id": "4dchOCAx3Utt"
      },
      "source": [
        "from pyspark.ml.feature import StandardScaler\n",
        "standardscaler=StandardScaler().setInputCol(\"features\").setOutputCol(\"Scaled_features\")\n",
        "scaled_vec_train=standardscaler.fit(trainDF).transform(trainDF)\n",
        "scaled_vec_test =standardscaler.fit(trainDF).transform(testDF)\n",
        "scaled_vec_train=scaled_vec_train.select(\"Scaled_features\",\"label\")\n",
        "scaled_vec_test=scaled_vec_test.select(\"Scaled_features\",\"label\")"
      ],
      "execution_count": null,
      "outputs": []
    },
    {
      "cell_type": "code",
      "metadata": {
        "id": "JCYE0Olc3vXr",
        "colab": {
          "base_uri": "https://localhost:8080/"
        },
        "outputId": "e404ec90-4b8e-41f2-c85b-be6e004133a3"
      },
      "source": [
        "scaled_vec_test.show()"
      ],
      "execution_count": null,
      "outputs": [
        {
          "output_type": "stream",
          "text": [
            "+--------------------+-----+\n",
            "|     Scaled_features|label|\n",
            "+--------------------+-----+\n",
            "|[0.70849172706039...|   36|\n",
            "|[1.15662952772804...|   11|\n",
            "|[1.32677911572286...|   36|\n",
            "|[1.52080354171084...|   10|\n",
            "|[1.57214626262286...|   30|\n",
            "|[1.84814884520518...|   11|\n",
            "|[1.84819612211209...|   36|\n",
            "|[1.87244917536059...|   30|\n",
            "|[2.03716191905994...|    9|\n",
            "|[2.05299968287718...|   11|\n",
            "|[2.09299594612909...|   15|\n",
            "|[2.12188213625547...|   11|\n",
            "|[2.17918174743905...|   10|\n",
            "|[2.17937085506672...|    9|\n",
            "|[2.20910802951761...|   10|\n",
            "|[2.22787696156372...|   36|\n",
            "|[2.25643221334167...|    6|\n",
            "|[2.26054530424347...|    6|\n",
            "|[2.27983428226566...|   26|\n",
            "|[2.36923491324599...|   10|\n",
            "+--------------------+-----+\n",
            "only showing top 20 rows\n",
            "\n"
          ],
          "name": "stdout"
        }
      ]
    },
    {
      "cell_type": "code",
      "metadata": {
        "id": "QVkbVS2j4zkw",
        "colab": {
          "base_uri": "https://localhost:8080/"
        },
        "outputId": "e2fdb39a-a7bd-4cca-e817-e516d359c282"
      },
      "source": [
        "from pyspark.ml import Pipeline\n",
        "from pyspark.ml.classification import LogisticRegression\n",
        "from pyspark.ml.evaluation import BinaryClassificationEvaluator\n",
        "from pyspark.ml.tuning import CrossValidator, ParamGridBuilder\n",
        "lr = LogisticRegression(maxIter=10)\n",
        "pipeline = Pipeline(stages=[lr])\n",
        "params = ParamGridBuilder()\\\n",
        "    .addGrid(lr.regParam, [0, 0.01, 0.05, 0.1,0.2,0.35, 0.5, 1,2,3,5,7,10])\\\n",
        "    .addGrid(lr.elasticNetParam, [0.0, 0.1,0.2,0.3, 0.5, 0.8, 1])\\\n",
        "    .build()\n",
        "\n",
        "\n",
        "\n",
        "evaluator = BinaryClassificationEvaluator(metricName = 'accuracy')\n",
        "validator = CrossValidator(\n",
        "                                estimatorParamMaps=params,\n",
        "                                estimator=lr,\n",
        "                                evaluator=eva   ,\n",
        "                                numFolds=5        )\n",
        "                          \n",
        "model = validator.fit(trainDF)\n",
        "sonucDF = model.transform(testDF)\n",
        "basari = eva.evaluate(sonucDF)\n",
        "\n",
        "sonucDF = model.transform(testDF)\n",
        "basari = eva.evaluate(sonucDF)\n",
        "\n",
        "print(\"Başarı : \",basari)"
      ],
      "execution_count": null,
      "outputs": [
        {
          "output_type": "stream",
          "text": [
            "Başarı :  0.5925925925925926\n"
          ],
          "name": "stdout"
        }
      ]
    },
    {
      "cell_type": "code",
      "metadata": {
        "id": "VERNE9VwMvt2"
      },
      "source": [
        "scaled_vec_train.show"
      ],
      "execution_count": null,
      "outputs": []
    },
    {
      "cell_type": "code",
      "metadata": {
        "id": "CdOz-KbX5uPi"
      },
      "source": [
        "# These accuracy rates make me upset :((()))"
      ],
      "execution_count": null,
      "outputs": []
    },
    {
      "cell_type": "markdown",
      "metadata": {
        "id": "BNGYRvq4ZDXZ"
      },
      "source": [
        "#I want to try NaiveBayes model, our data set is very restricted. NB may help.."
      ]
    },
    {
      "cell_type": "code",
      "metadata": {
        "id": "j9kk0aUcYw5J"
      },
      "source": [
        "trainDF , testDF = leaf_vectorized.randomSplit([0.7,0.3])\n",
        "#First split, then scale..\n",
        "from pyspark.ml.feature import StandardScaler\n",
        "standardscaler=StandardScaler().setInputCol(\"features\").setOutputCol(\"Scaled_features\")\n",
        "scaled_vec_train=standardscaler.fit(trainDF).transform(trainDF)\n",
        "scaled_vec_test =standardscaler.fit(trainDF).transform(testDF)\n",
        "scaled_vec_train=scaled_vec_train.select(\"Scaled_features\",\"label\")\n",
        "scaled_vec_test=scaled_vec_test.select(\"Scaled_features\",\"label\")"
      ],
      "execution_count": null,
      "outputs": []
    },
    {
      "cell_type": "code",
      "metadata": {
        "id": "SgMsIlusIXxk",
        "colab": {
          "base_uri": "https://localhost:8080/"
        },
        "outputId": "80f6fb24-abfd-44aa-f963-60bbfaed2b49"
      },
      "source": [
        "from pyspark.sql import SparkSession\n",
        "from pyspark.ml import Pipeline\n",
        "from pyspark.sql.types import StringType\n",
        "from pyspark.sql.functions import UserDefinedFunction\n",
        "from pyspark.ml.feature import Tokenizer,Word2Vec,StopWordsRemover,NGram,CountVectorizer\n",
        "from pyspark.ml.evaluation import MulticlassClassificationEvaluator\n",
        "from pyspark.ml.classification import MultilayerPerceptronClassifier,RandomForestClassifier,NaiveBayes\n",
        "spark = SparkSession.builder.appName(\"Spark Dataframe Null Values\").getOrCreate()\n",
        "\n",
        "\n",
        "\n",
        "classifier = NaiveBayes() \n",
        "#trainDF,testDF = textDF.randomSplit([0.75,0.25])\n",
        "model = classifier.fit(trainDF)\n",
        "resultDF = model.transform(testDF)\n",
        "eva = MulticlassClassificationEvaluator(metricName=\"accuracy\")\n",
        "accuracy = eva.evaluate(resultDF)\n",
        "print('accuracy:',accuracy)"
      ],
      "execution_count": null,
      "outputs": [
        {
          "output_type": "stream",
          "text": [
            "accuracy: 0.03409090909090909\n"
          ],
          "name": "stdout"
        }
      ]
    },
    {
      "cell_type": "markdown",
      "metadata": {
        "id": "Lscxa3-GZR8Z"
      },
      "source": [
        "Noppee, NB did not give hand to us.. 3 percent accuracy.."
      ]
    },
    {
      "cell_type": "code",
      "metadata": {
        "id": "qOpan7C2u28t"
      },
      "source": [
        "f1_score = MulticlassClassificationEvaluator(metricName=\"f1\")"
      ],
      "execution_count": null,
      "outputs": []
    },
    {
      "cell_type": "code",
      "metadata": {
        "id": "A0hDQ_XdY7uZ",
        "colab": {
          "base_uri": "https://localhost:8080/"
        },
        "outputId": "91a7c08e-f390-4a80-f078-a6cb08543616"
      },
      "source": [
        "from pyspark.ml.classification import RandomForestClassifier,DecisionTreeClassifier,NaiveBayes\n",
        "decision_tree= DecisionTreeClassifier()\n",
        "\n",
        "params = ParamGridBuilder()\\\n",
        "    .addGrid(decision_tree.maxDepth, [4,5,10,15,20]) \\\n",
        "    .addGrid(decision_tree.maxBins, [10,20,25,35])\\\n",
        "    .addGrid(decision_tree.impurity, ['gini',\"entropy\"])\\\n",
        "    .build()\n",
        "\n",
        "dc_validator = CrossValidator(\n",
        "                                estimatorParamMaps=params,\n",
        "                                estimator=decision_tree,\n",
        "                                evaluator=f1_score,\n",
        "                                numFolds=5,\n",
        "                                parallelism=4\n",
        "                          )\n",
        "\n",
        "dc_model = dc_validator.fit(trainDF)\n",
        "\n",
        "print(\"Impurtiy : \",dc_model.bestModel._java_obj.getImpurity())\n",
        "\n",
        "result = dc_model.transform(testDF)\n",
        "\n",
        "accuracy_result = MulticlassClassificationEvaluator(metricName=\"accuracy\").evaluate(result)\n",
        "#log_accuracy.append(('DecisionTreeClassifier',accuracy_result))\n",
        "#print(\"Accuracy : \",accuracy_result)\n",
        "print('accuracy_result:',accuracy_result)"
      ],
      "execution_count": null,
      "outputs": [
        {
          "output_type": "stream",
          "text": [
            "Impurtiy :  gini\n",
            "accuracy_result: 0.4431818181818182\n"
          ],
          "name": "stdout"
        }
      ]
    },
    {
      "cell_type": "code",
      "metadata": {
        "id": "2xnpfK8dOVos"
      },
      "source": [
        ""
      ],
      "execution_count": null,
      "outputs": []
    }
  ]
}