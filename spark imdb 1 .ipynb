{
  "nbformat": 4,
  "nbformat_minor": 0,
  "metadata": {
    "colab": {
      "name": "cem-ishakoglu-Question1.ipynb",
      "provenance": [],
      "collapsed_sections": []
    },
    "kernelspec": {
      "name": "python3",
      "display_name": "Python 3"
    }
  },
  "cells": [
    {
      "cell_type": "code",
      "metadata": {
        "id": "npt0xOVX1CoK"
      },
      "source": [
        "import pandas as pd\n",
        "\n",
        "!apt-get update\n",
        "!apt-get install openjdk-8-jdk-headless -qq > /dev/null\n",
        "import os\n",
        "os.environ[\"JAVA_HOME\"] = \"/usr/lib/jvm/java-8-openjdk-amd64\"\n",
        "!update-alternatives --set java /usr/lib/jvm/java-8-openjdk-amd64/jre/bin/java\n",
        "!java -version\n",
        "!pip install pyspark\n"
      ],
      "execution_count": null,
      "outputs": []
    },
    {
      "cell_type": "code",
      "metadata": {
        "id": "vLCpZbxZ__4P"
      },
      "source": [
        "from pyspark import SparkContext\n",
        "from pyspark.sql import SparkSession \n",
        "spark = SparkSession.builder\\\n",
        "            .appName(\"Spark Dataframe Intro\")\\\n",
        "            .getOrCreate()\n",
        "tags = spark.read.option(\"header\",\"true\").option(\"inferSchema\",\"false\").csv('/content/tags.csv')\n",
        "ratings = spark.read.option(\"header\",\"true\").option(\"inferSchema\",\"true\").csv('/content/ratings.csv')"
      ],
      "execution_count": null,
      "outputs": []
    },
    {
      "cell_type": "code",
      "metadata": {
        "colab": {
          "base_uri": "https://localhost:8080/"
        },
        "id": "b-Wzqx94AHrS",
        "outputId": "fdf860c4-7b08-4129-95f1-5b356e88cbed"
      },
      "source": [
        "tags.show()"
      ],
      "execution_count": null,
      "outputs": [
        {
          "output_type": "stream",
          "text": [
            "+------+-------+-----------------+----------+\n",
            "|userId|movieId|              tag| timestamp|\n",
            "+------+-------+-----------------+----------+\n",
            "|     2|  60756|            funny|1445714994|\n",
            "|     2|  60756|  Highly quotable|1445714996|\n",
            "|     2|  60756|     will ferrell|1445714992|\n",
            "|     2|  89774|     Boxing story|1445715207|\n",
            "|     2|  89774|              MMA|1445715200|\n",
            "|     2|  89774|        Tom Hardy|1445715205|\n",
            "|     2| 106782|            drugs|1445715054|\n",
            "|     2| 106782|Leonardo DiCaprio|1445715051|\n",
            "|     2| 106782|  Martin Scorsese|1445715056|\n",
            "|     7|  48516|     way too long|1169687325|\n",
            "|    18|    431|        Al Pacino|1462138765|\n",
            "|    18|    431|         gangster|1462138749|\n",
            "|    18|    431|            mafia|1462138755|\n",
            "|    18|   1221|        Al Pacino|1461699306|\n",
            "|    18|   1221|            Mafia|1461699303|\n",
            "|    18|   5995|        holocaust|1455735472|\n",
            "|    18|   5995|       true story|1455735479|\n",
            "|    18|  44665|     twist ending|1456948283|\n",
            "|    18|  52604|  Anthony Hopkins|1457650696|\n",
            "|    18|  52604|  courtroom drama|1457650711|\n",
            "+------+-------+-----------------+----------+\n",
            "only showing top 20 rows\n",
            "\n"
          ],
          "name": "stdout"
        }
      ]
    },
    {
      "cell_type": "code",
      "metadata": {
        "colab": {
          "base_uri": "https://localhost:8080/"
        },
        "id": "-0PSHX4OAIZ-",
        "outputId": "300cf6df-993c-4694-e12a-6713c700df0d"
      },
      "source": [
        "ratings.show()"
      ],
      "execution_count": null,
      "outputs": [
        {
          "output_type": "stream",
          "text": [
            "+------+-------+------+---------+\n",
            "|userId|movieId|rating|timestamp|\n",
            "+------+-------+------+---------+\n",
            "|     1|      1|   4.0|964982703|\n",
            "|     1|      3|   4.0|964981247|\n",
            "|     1|      6|   4.0|964982224|\n",
            "|     1|     47|   5.0|964983815|\n",
            "|     1|     50|   5.0|964982931|\n",
            "|     1|     70|   3.0|964982400|\n",
            "|     1|    101|   5.0|964980868|\n",
            "|     1|    110|   4.0|964982176|\n",
            "|     1|    151|   5.0|964984041|\n",
            "|     1|    157|   5.0|964984100|\n",
            "|     1|    163|   5.0|964983650|\n",
            "|     1|    216|   5.0|964981208|\n",
            "|     1|    223|   3.0|964980985|\n",
            "|     1|    231|   5.0|964981179|\n",
            "|     1|    235|   4.0|964980908|\n",
            "|     1|    260|   5.0|964981680|\n",
            "|     1|    296|   3.0|964982967|\n",
            "|     1|    316|   3.0|964982310|\n",
            "|     1|    333|   5.0|964981179|\n",
            "|     1|    349|   4.0|964982563|\n",
            "+------+-------+------+---------+\n",
            "only showing top 20 rows\n",
            "\n"
          ],
          "name": "stdout"
        }
      ]
    },
    {
      "cell_type": "code",
      "metadata": {
        "id": "DxpM1ejsA-Mq",
        "colab": {
          "base_uri": "https://localhost:8080/"
        },
        "outputId": "1cc62921-981d-404d-801b-a31bcff039de"
      },
      "source": [
        "joinedDF = tags.join(ratings,'movieId','inner')\n",
        "joinedDF.show(50)"
      ],
      "execution_count": null,
      "outputs": [
        {
          "output_type": "stream",
          "text": [
            "+-------+------+--------------------+----------+------+------+---------+\n",
            "|movieId|userId|                 tag| timestamp|userId|rating|timestamp|\n",
            "+-------+------+--------------------+----------+------+------+---------+\n",
            "|      1|   567|                 fun|1525286013|     1|   4.0|964982703|\n",
            "|      1|   474|               pixar|1137206825|     1|   4.0|964982703|\n",
            "|      1|   336|               pixar|1139045764|     1|   4.0|964982703|\n",
            "|      3|   289|                 old|1143424860|     1|   4.0|964981247|\n",
            "|      3|   289|               moldy|1143424860|     1|   4.0|964981247|\n",
            "|     47|   474|       serial killer|1137206452|     1|   5.0|964983815|\n",
            "|     47|   424|        twist ending|1457842458|     1|   5.0|964983815|\n",
            "|     47|   424|             mystery|1457842470|     1|   5.0|964983815|\n",
            "|     50|   474|               heist|1137206826|     1|   5.0|964982931|\n",
            "|     50|   424|        twist ending|1457842306|     1|   5.0|964982931|\n",
            "|     50|   424|              tricky|1457842340|     1|   5.0|964982931|\n",
            "|     50|   424|            thriller|1457842332|     1|   5.0|964982931|\n",
            "|     50|   424|            suspense|1457842315|     1|   5.0|964982931|\n",
            "|     50|   424|            mindfuck|1457842328|     1|   5.0|964982931|\n",
            "|    101|   567|              quirky|1525287214|     1|   5.0|964980868|\n",
            "|    101|   567|     off-beat comedy|1525287216|     1|   5.0|964980868|\n",
            "|    101|   474|               crime|1138137460|     1|   5.0|964980868|\n",
            "|    110|   474|            Scotland|1137180974|     1|   4.0|964982176|\n",
            "|    110|    62|         sword fight|1528152535|     1|   4.0|964982176|\n",
            "|    110|    62|             revenge|1528152531|     1|   4.0|964982176|\n",
            "|    110|    62|Oscar (Best Cinem...|1528152539|     1|   4.0|964982176|\n",
            "|    110|    62|          mel gibson|1528152521|     1|   4.0|964982176|\n",
            "|    110|    62|            Medieval|1528152528|     1|   4.0|964982176|\n",
            "|    110|    62|       inspirational|1528152527|     1|   4.0|964982176|\n",
            "|    110|    62|          historical|1528152523|     1|   4.0|964982176|\n",
            "|    110|    62|                epic|1528152532|     1|   4.0|964982176|\n",
            "|    110|    62|   beautiful scenery|1528152541|     1|   4.0|964982176|\n",
            "|    216|   477|stop looking at m...|1244787726|     1|   5.0|964981208|\n",
            "|    216|   477|        Adam Sandler|1244787718|     1|   5.0|964981208|\n",
            "|    216|   474|              school|1137373675|     1|   5.0|964981208|\n",
            "|    223|   474|        generation X|1138137480|     1|   3.0|964980985|\n",
            "|    223|   424|               witty|1457844080|     1|   3.0|964980985|\n",
            "|    223|   424|              quirky|1457844073|     1|   3.0|964980985|\n",
            "|    223|   424|    independent film|1457844084|     1|   3.0|964980985|\n",
            "|    223|   424|           hilarious|1457844086|     1|   3.0|964980985|\n",
            "|    223|   424|             cynical|1457844066|     1|   3.0|964980985|\n",
            "|    235|   474|      movie business|1137181651|     1|   4.0|964980908|\n",
            "|    260|   474|         space opera|1137206504|     1|   5.0|964981680|\n",
            "|    260|   474|      luke skywalker|1137206496|     1|   5.0|964981680|\n",
            "|    260|   474|         darth vader|1137206494|     1|   5.0|964981680|\n",
            "|    260|   424|           Star Wars|1457900775|     1|   5.0|964981680|\n",
            "|    260|   424|     space adventure|1457900770|     1|   5.0|964981680|\n",
            "|    260|   424|              sci-fi|1457900766|     1|   5.0|964981680|\n",
            "|    260|   424|      classic sci-fi|1457900772|     1|   5.0|964981680|\n",
            "|    260|   341|               space|1439750961|     1|   5.0|964981680|\n",
            "|    260|   341| ROBOTS AND ANDROIDS|1439750956|     1|   5.0|964981680|\n",
            "|    260|   205|           Star Wars|1519899108|     1|   5.0|964981680|\n",
            "|    260|   205|              sci-fi|1519899078|     1|   5.0|964981680|\n",
            "|    260|   205|    oldie but goodie|1519899101|     1|   5.0|964981680|\n",
            "|    260|   193|          space epic|1435856950|     1|   5.0|964981680|\n",
            "+-------+------+--------------------+----------+------+------+---------+\n",
            "only showing top 50 rows\n",
            "\n"
          ],
          "name": "stdout"
        }
      ]
    },
    {
      "cell_type": "code",
      "metadata": {
        "id": "AMhmuwAWIIfh"
      },
      "source": [
        "joinedDF.createOrReplaceTempView('joinedDF')\n",
        "toplamlar = spark.sql('select tag , sum(rating) as toplam from joinedDF group by tag')"
      ],
      "execution_count": null,
      "outputs": []
    },
    {
      "cell_type": "code",
      "metadata": {
        "colab": {
          "base_uri": "https://localhost:8080/"
        },
        "id": "mKcR3mMbKfu8",
        "outputId": "7ee8bb0e-edc5-4078-b808-fe51507ed88b"
      },
      "source": [
        "toplamlar.show()"
      ],
      "execution_count": null,
      "outputs": [
        {
          "output_type": "stream",
          "text": [
            "+--------------------+------+\n",
            "|                 tag|toplam|\n",
            "+--------------------+------+\n",
            "|              ransom| 416.0|\n",
            "|              freaks| 364.5|\n",
            "|wrongful imprison...|1404.0|\n",
            "|        Heartwarming| 365.0|\n",
            "|               anime|1369.0|\n",
            "|  intelligent sci-fi| 245.5|\n",
            "|               1970s| 174.5|\n",
            "|                 art|  73.5|\n",
            "|             lyrical|  89.5|\n",
            "|                hope|  61.5|\n",
            "|          creativity|   5.0|\n",
            "|       John Travolta|1288.5|\n",
            "|intertwining stor...|1288.5|\n",
            "|        conversation|1288.5|\n",
            "|              sequel|1763.5|\n",
            "|               macho| 218.5|\n",
            "|          Emma Stone| 205.5|\n",
            "|           Wolverine| 283.0|\n",
            "|               mafia| 452.5|\n",
            "|          television| 241.0|\n",
            "+--------------------+------+\n",
            "only showing top 20 rows\n",
            "\n"
          ],
          "name": "stdout"
        }
      ]
    },
    {
      "cell_type": "code",
      "metadata": {
        "id": "CDvKDw4MFhyF"
      },
      "source": [
        "joinedDF2 = joinedDF.groupBy('tag').count()\n",
        "joinedDF2=  joinedDF2.sort(\"count\",ascending=False)"
      ],
      "execution_count": null,
      "outputs": []
    },
    {
      "cell_type": "code",
      "metadata": {
        "id": "zgeZUX6zQCpx"
      },
      "source": [
        "joinedDF3 = joinedDF2.join(toplamlar,'tag','inner')"
      ],
      "execution_count": null,
      "outputs": []
    },
    {
      "cell_type": "code",
      "metadata": {
        "colab": {
          "base_uri": "https://localhost:8080/"
        },
        "id": "w-s9PL_8SoeC",
        "outputId": "4a729360-4247-4c2a-8ce7-e0d7fd4d5aee"
      },
      "source": [
        "joinedDF3.show(200)"
      ],
      "execution_count": null,
      "outputs": [
        {
          "output_type": "stream",
          "text": [
            "+--------------------+-----+------+\n",
            "|                 tag|count|toplam|\n",
            "+--------------------+-----+------+\n",
            "|               1970s|   46| 174.5|\n",
            "|        Heartwarming|   88| 365.0|\n",
            "|               anime|  342|1369.0|\n",
            "|                 art|   20|  73.5|\n",
            "|          creativity|    1|   5.0|\n",
            "|              freaks|   97| 364.5|\n",
            "|                hope|   18|  61.5|\n",
            "|  intelligent sci-fi|   65| 245.5|\n",
            "|             lyrical|   25|  89.5|\n",
            "|              ransom|  106| 416.0|\n",
            "|wrongful imprison...|  317|1404.0|\n",
            "|          Emma Stone|   53| 205.5|\n",
            "|       John Travolta|  307|1288.5|\n",
            "|           Wolverine|   76| 283.0|\n",
            "|        conversation|  307|1288.5|\n",
            "|intertwining stor...|  307|1288.5|\n",
            "|               macho|   61| 218.5|\n",
            "|               mafia|  124| 452.5|\n",
            "|               scifi|   18|  54.0|\n",
            "|              sequel|  478|1763.5|\n",
            "|          television|   67| 241.0|\n",
            "|                70mm|    2|   4.5|\n",
            "|              Russia|    6|  24.0|\n",
            "|                 cia|   28| 111.5|\n",
            "|                lies|  115| 451.0|\n",
            "|        space action|  502|2124.0|\n",
            "|              Quirky|   97| 414.0|\n",
            "|           biography|  220| 929.5|\n",
            "|        human rights|    1|   5.0|\n",
            "|            romantic|  145| 604.0|\n",
            "|                slow|  109| 424.5|\n",
            "|             suicide|   26|  98.0|\n",
            "|               Grace|   20|  80.5|\n",
            "|           Hollywood|  131| 459.0|\n",
            "|   Maggie Gyllenhaal|   44| 162.5|\n",
            "|                Nerd|  251|1062.0|\n",
            "|           President|   76| 269.5|\n",
            "|first was much be...|   61| 180.5|\n",
            "|     good soundtrack|  109| 398.0|\n",
            "|              killer|   29| 111.5|\n",
            "|               scary|   76| 302.5|\n",
            "|               Clock|    2|   8.0|\n",
            "|        cult classic|  307|1288.5|\n",
            "|         intelligent|  735|2997.0|\n",
            "|             lesbian|    5|  17.0|\n",
            "|start of a beauti...|  100| 424.0|\n",
            "|             surreal| 1336|5371.0|\n",
            "|   Denzel Washington|   37| 144.5|\n",
            "| George Bernard Shaw|   36| 145.0|\n",
            "|            Mindfuck|  159| 655.5|\n",
            "|            Savannah|   24|  74.5|\n",
            "|               crazy|    6|  27.0|\n",
            "|freedom of expres...|   27|  95.5|\n",
            "|        great acting|  658|2754.5|\n",
            "|        motherfucker|  307|1288.5|\n",
            "|              priest|   59| 210.5|\n",
            "|            anti-war|  102| 418.0|\n",
            "|                grim|   16|  66.5|\n",
            "|interesting scenario|    3|   8.5|\n",
            "|      modern fantasy|   44| 162.5|\n",
            "|              skiing|   27|  99.5|\n",
            "|               space| 1413|5520.0|\n",
            "|        twist ending| 2434|9943.0|\n",
            "|       E. M. Forster|   17|  63.0|\n",
            "| Shakespeare sort of|   83| 303.5|\n",
            "|          Simon Pegg|   59| 228.0|\n",
            "|             leopard|   18|  69.5|\n",
            "|     stand-up comedy|    4|  10.0|\n",
            "|         High School|  273|1052.0|\n",
            "|         Nick Hornby|  119| 438.5|\n",
            "|beautiful cinemat...|   50| 190.5|\n",
            "|   beautiful visuals|   26| 103.5|\n",
            "|               crime| 1190|4789.0|\n",
            "|           nostalgia|    7|  22.0|\n",
            "|            superman|   16|  37.5|\n",
            "|             unusual|  307|1288.5|\n",
            "|            morality|   44| 182.5|\n",
            "|             oninous|   15|  56.0|\n",
            "|          Bugs Bunny|   53| 143.5|\n",
            "|              Capote|   40| 153.0|\n",
            "|       Emilia Clarke|    5|  19.5|\n",
            "|        Lolita theme|  133| 534.5|\n",
            "|          black hole|   73| 291.5|\n",
            "|               bleak|    5|  21.0|\n",
            "|            carnival|   10|  29.0|\n",
            "|            cerebral|  504|2044.0|\n",
            "|             college|   75| 266.5|\n",
            "|          highschool|   86| 340.5|\n",
            "|         infertility|   22|  73.5|\n",
            "|         jackie chan|    3|  11.5|\n",
            "|             mermaid|   51| 159.0|\n",
            "|multiple short st...|   10|  42.5|\n",
            "|     Alicia Vikander|    4|  10.0|\n",
            "| American propaganda|   14|  57.5|\n",
            "|               Dumas|   32| 122.5|\n",
            "|        Keanu Reeves|   36| 140.5|\n",
            "|            homeless|   47| 174.0|\n",
            "|     quirky romantic|  131| 545.0|\n",
            "|              trippy|   38| 132.0|\n",
            "|                Guns|  133| 534.5|\n",
            "|     Jake Gyllenhaal|   33| 129.0|\n",
            "|               Magic|  678|2620.0|\n",
            "| ROBOTS AND ANDROIDS|  251|1062.0|\n",
            "|          Tim Burton|  148| 549.5|\n",
            "|        bad language|  307|1288.5|\n",
            "|     black-and-white|    8|  36.0|\n",
            "|      classic sci-fi|  753|3186.0|\n",
            "|     courtroom drama|   16|  58.0|\n",
            "|             fantasy|  531|2088.0|\n",
            "|       mad scientist|   33|  84.5|\n",
            "|            survival|   84| 316.5|\n",
            "|               Pixar|  391|1493.0|\n",
            "|           boksdrama|   17|  69.5|\n",
            "|         male nudity|    2|   8.5|\n",
            "|            new york|   92| 326.5|\n",
            "|           nightclub|   29| 112.5|\n",
            "|              parody|  496|2025.5|\n",
            "|            preacher|    2|   8.0|\n",
            "|    predictible plot|   25| 107.0|\n",
            "|             pudding|   33| 119.5|\n",
            "|               saint|    5|  19.5|\n",
            "|        spelling bee|   13|  51.0|\n",
            "|             wistful|   33| 119.5|\n",
            "|         Liam Neeson|   36| 118.0|\n",
            "|     Mental Hospital|   28|  97.0|\n",
            "|                moon|  229| 887.5|\n",
            "|            not seen|   75| 311.0|\n",
            "|    tension building|   18|  67.5|\n",
            "|      unconventional|   53| 200.0|\n",
            "|         video games|   44| 163.0|\n",
            "|              Batman|   12|  35.0|\n",
            "|Nudity (Full Fron...|  126| 495.5|\n",
            "|              Sinbad|   17|  54.0|\n",
            "| action choreography|   19|  61.5|\n",
            "|            assassin|  654|2657.0|\n",
            "|based on a true s...|  429|1771.5|\n",
            "|       Audrey Tautou|   49| 153.0|\n",
            "|        Big Brothers|    2|   8.5|\n",
            "|            Cold War|   50| 181.0|\n",
            "|Everything you wa...|  107| 402.5|\n",
            "|             Favelas|   10|  43.0|\n",
            "|                Food|    5|  22.0|\n",
            "|        James Franco|   43| 155.5|\n",
            "|              Turkey|    7|  23.0|\n",
            "|         documentary|    2|   7.0|\n",
            "|             orphans|   23|  95.5|\n",
            "|                 wry|   12|  41.0|\n",
            "|               1980s|   89| 298.5|\n",
            "|           Coen Bros|   39| 136.0|\n",
            "|     Natalie Portman|  133| 534.5|\n",
            "|              autism|   96| 365.5|\n",
            "|            big wave|    1|   4.0|\n",
            "|                gore|  307|1288.5|\n",
            "|              island|   22|  73.5|\n",
            "|          very funny|  348|1446.5|\n",
            "|            Homeless|    3|  11.0|\n",
            "|       James Stewart|  144| 599.5|\n",
            "|               Jason|   26|  66.5|\n",
            "|          R language|    3|  10.5|\n",
            "|       Robert Ludlum|   81| 299.5|\n",
            "|        Stock Market|   54| 211.5|\n",
            "|      achronological|  307|1288.5|\n",
            "|   american idolatry|    3|   9.5|\n",
            "|            inhumane|    3|  11.0|\n",
            "|           mythology|  198| 813.0|\n",
            "|           von Bulow|    6|  22.5|\n",
            "|           Huey Long|    4|  17.0|\n",
            "|       Marx brothers|   11|  45.0|\n",
            "|           Up series|    2|   8.0|\n",
            "|              hitman|  447|1852.0|\n",
            "|                lion|   12|  42.5|\n",
            "|               1960s|   37| 126.0|\n",
            "|                  DC|   10|  23.5|\n",
            "|       Inigo Montoya|  142| 601.0|\n",
            "|           Thrilling|   28| 111.5|\n",
            "|    fun family movie|   41| 158.0|\n",
            "|           monologue|  307|1288.5|\n",
            "|stupid is as stup...|  329|1370.0|\n",
            "|    superficial plot|   97| 349.5|\n",
            "|              Europe|   50| 167.0|\n",
            "|       Lloyd Dobbler|   39| 153.0|\n",
            "|            downbeat|   23|  92.5|\n",
            "|      Morgan Freeman|  393|1707.5|\n",
            "|        Stephen King|  739|3024.5|\n",
            "|                  TV|  206| 761.5|\n",
            "|             cynical|  124| 481.5|\n",
            "|            haunting|    3|  11.0|\n",
            "|         short films|    1|   2.5|\n",
            "|     space adventure|  251|1062.0|\n",
            "|             stapler|   94| 384.5|\n",
            "|               tense|  543|2132.5|\n",
            "|         Afghanistan|   14|  57.5|\n",
            "|            Cambodia|   29| 117.5|\n",
            "| Neil Patrick Harris|   24|  94.0|\n",
            "|          Palme d'Or|  307|1288.5|\n",
            "|              lawyer|   88| 280.0|\n",
            "|r:disturbing viol...|  307|1288.5|\n",
            "|          spacecraft|  109| 424.5|\n",
            "|       vertriloquism|    4|  14.5|\n",
            "|               Mafia| 1060|4418.5|\n",
            "+--------------------+-----+------+\n",
            "only showing top 200 rows\n",
            "\n"
          ],
          "name": "stdout"
        }
      ]
    },
    {
      "cell_type": "code",
      "metadata": {
        "id": "DeQGxH4tYDr3"
      },
      "source": [
        "joinedDF3.createOrReplaceTempView('joinedDF3')"
      ],
      "execution_count": null,
      "outputs": []
    },
    {
      "cell_type": "code",
      "metadata": {
        "id": "34aDHXssYRt1"
      },
      "source": [
        "joinedDF3 = spark.sql(' select * , toplam/count as average_rating from joinedDF3')"
      ],
      "execution_count": null,
      "outputs": []
    },
    {
      "cell_type": "code",
      "metadata": {
        "colab": {
          "base_uri": "https://localhost:8080/"
        },
        "id": "IKVfmeOhYjVy",
        "outputId": "9ecb7a27-404b-4315-e35c-818fd225bf29"
      },
      "source": [
        "joinedDF3.show()"
      ],
      "execution_count": null,
      "outputs": [
        {
          "output_type": "stream",
          "text": [
            "+--------------------+-----+------+------------------+\n",
            "|                 tag|count|toplam|    average_rating|\n",
            "+--------------------+-----+------+------------------+\n",
            "|               1970s|   46| 174.5|3.7934782608695654|\n",
            "|        Heartwarming|   88| 365.0|4.1477272727272725|\n",
            "|               anime|  342|1369.0| 4.002923976608187|\n",
            "|                 art|   20|  73.5|             3.675|\n",
            "|          creativity|    1|   5.0|               5.0|\n",
            "|              freaks|   97| 364.5|3.7577319587628866|\n",
            "|                hope|   18|  61.5|3.4166666666666665|\n",
            "|  intelligent sci-fi|   65| 245.5| 3.776923076923077|\n",
            "|             lyrical|   25|  89.5|              3.58|\n",
            "|              ransom|  106| 416.0|3.9245283018867925|\n",
            "|wrongful imprison...|  317|1404.0| 4.429022082018927|\n",
            "|          Emma Stone|   53| 205.5|3.8773584905660377|\n",
            "|       John Travolta|  307|1288.5| 4.197068403908795|\n",
            "|           Wolverine|   76| 283.0| 3.723684210526316|\n",
            "|        conversation|  307|1288.5| 4.197068403908795|\n",
            "|intertwining stor...|  307|1288.5| 4.197068403908795|\n",
            "|               macho|   61| 218.5| 3.581967213114754|\n",
            "|               mafia|  124| 452.5| 3.649193548387097|\n",
            "|               scifi|   18|  54.0|               3.0|\n",
            "|              sequel|  478|1763.5|3.6893305439330546|\n",
            "+--------------------+-----+------+------------------+\n",
            "only showing top 20 rows\n",
            "\n"
          ],
          "name": "stdout"
        }
      ]
    }
  ]
}
